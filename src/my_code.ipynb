{
 "cells": [
  {
   "cell_type": "code",
   "execution_count": 1,
   "metadata": {},
   "outputs": [],
   "source": [
    "import pandas as pd\n",
    "import numpy as np\n",
    "import seaborn as sns"
   ]
  },
  {
   "cell_type": "code",
   "execution_count": 4,
   "metadata": {},
   "outputs": [
    {
     "name": "stdout",
     "output_type": "stream",
     "text": [
      "<class 'pandas.core.frame.DataFrame'>\n",
      "RangeIndex: 51 entries, 0 to 50\n",
      "Data columns (total 14 columns):\n",
      " #   Column      Non-Null Count  Dtype  \n",
      "---  ------      --------------  -----  \n",
      " 0   name        51 non-null     object \n",
      " 1   height      46 non-null     float64\n",
      " 2   mass        31 non-null     float64\n",
      " 3   skin_color  51 non-null     object \n",
      " 4   eye_color   51 non-null     object \n",
      " 5   birth_year  13 non-null     float64\n",
      " 6   hair_color  51 non-null     object \n",
      " 7   sex         48 non-null     object \n",
      " 8   gender      48 non-null     object \n",
      " 9   species     48 non-null     object \n",
      " 10  homeworld   44 non-null     object \n",
      " 11  films       51 non-null     object \n",
      " 12  vehicles    51 non-null     object \n",
      " 13  starships   51 non-null     object \n",
      "dtypes: float64(3), object(11)\n",
      "memory usage: 5.7+ KB\n",
      "None\n"
     ]
    }
   ],
   "source": [
    "df_parquet = pd.read_parquet(r\"D:\\DATA_Analysis\\Arkon\\data\\data2 (1).parquet\")\n",
    "print(df_parquet.info())"
   ]
  }
 ],
 "metadata": {
  "kernelspec": {
   "display_name": "Python 3",
   "language": "python",
   "name": "python3"
  },
  "language_info": {
   "codemirror_mode": {
    "name": "ipython",
    "version": 3
   },
   "file_extension": ".py",
   "mimetype": "text/x-python",
   "name": "python",
   "nbconvert_exporter": "python",
   "pygments_lexer": "ipython3",
   "version": "3.7.9"
  }
 },
 "nbformat": 4,
 "nbformat_minor": 2
}
